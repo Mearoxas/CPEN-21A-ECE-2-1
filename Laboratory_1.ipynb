{
  "nbformat": 4,
  "nbformat_minor": 0,
  "metadata": {
    "colab": {
      "name": "Laboratory 1.ipynb",
      "provenance": [],
      "collapsed_sections": [],
      "authorship_tag": "ABX9TyNQhI99wFsmXKs3drJUU+S6",
      "include_colab_link": true
    },
    "kernelspec": {
      "name": "python3",
      "display_name": "Python 3"
    },
    "language_info": {
      "name": "python"
    }
  },
  "cells": [
    {
      "cell_type": "markdown",
      "metadata": {
        "id": "view-in-github",
        "colab_type": "text"
      },
      "source": [
        "<a href=\"https://colab.research.google.com/github/Mearoxas/CPEN-21A-ECE-2-1/blob/main/Laboratory_1.ipynb\" target=\"_parent\"><img src=\"https://colab.research.google.com/assets/colab-badge.svg\" alt=\"Open In Colab\"/></a>"
      ]
    },
    {
      "cell_type": "code",
      "metadata": {
        "id": "OvX8uVpxzzUT"
      },
      "source": [
        ""
      ],
      "execution_count": null,
      "outputs": []
    },
    {
      "cell_type": "markdown",
      "metadata": {
        "id": "Cw-rt7p6z_2s"
      },
      "source": [
        "#Laboratory 1\n"
      ]
    },
    {
      "cell_type": "code",
      "metadata": {
        "colab": {
          "base_uri": "https://localhost:8080/"
        },
        "id": "EUc_gkeQ0eGL",
        "outputId": "02bae752-0f1d-4816-9ab4-d7f7f21e4d09"
      },
      "source": [
        "#This is a comment\n",
        "print (\"Welcome to Phyton Programming\")"
      ],
      "execution_count": 1,
      "outputs": [
        {
          "output_type": "stream",
          "name": "stdout",
          "text": [
            "Welcome to Phyton Programming\n"
          ]
        }
      ]
    },
    {
      "cell_type": "code",
      "metadata": {
        "colab": {
          "base_uri": "https://localhost:8080/"
        },
        "id": "YOF5T35K04z9",
        "outputId": "8cf94b6b-7499-45bd-e621-dbb2998f4026"
      },
      "source": [
        "name= \"Mary Ann M. Roxas\"\n",
        "address= \"Blk 6 lot 1 Sabang Lipa City, Batangas\"\n",
        "age= \"20 years old\"\n",
        "print(name)\n",
        "print(address)\n",
        "print(age)"
      ],
      "execution_count": 2,
      "outputs": [
        {
          "output_type": "stream",
          "name": "stdout",
          "text": [
            "Mary Ann M. Roxas\n",
            "Blk 6 lot 1 Sabang Lipa City, Batangas\n",
            "20 years old\n"
          ]
        }
      ]
    }
  ]
}