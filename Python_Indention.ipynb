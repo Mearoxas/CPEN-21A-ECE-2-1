{
  "nbformat": 4,
  "nbformat_minor": 0,
  "metadata": {
    "colab": {
      "name": "Python Indention.ipynb",
      "provenance": [],
      "collapsed_sections": [],
      "toc_visible": true,
      "authorship_tag": "ABX9TyMH8EfaqpnYtS2uygmoB0zu",
      "include_colab_link": true
    },
    "kernelspec": {
      "name": "python3",
      "display_name": "Python 3"
    },
    "language_info": {
      "name": "python"
    }
  },
  "cells": [
    {
      "cell_type": "markdown",
      "metadata": {
        "id": "view-in-github",
        "colab_type": "text"
      },
      "source": [
        "<a href=\"https://colab.research.google.com/github/Mearoxas/CPEN-21A-ECE-2-1/blob/main/Python_Indention.ipynb\" target=\"_parent\"><img src=\"https://colab.research.google.com/assets/colab-badge.svg\" alt=\"Open In Colab\"/></a>"
      ]
    },
    {
      "cell_type": "markdown",
      "metadata": {
        "id": "0t8dNMR4itiH"
      },
      "source": [
        "# Python Indention"
      ]
    },
    {
      "cell_type": "code",
      "metadata": {
        "colab": {
          "base_uri": "https://localhost:8080/"
        },
        "id": "SJvh7nmxk77M",
        "outputId": "4b85a790-6b44-4387-f27b-7b178428abf4"
      },
      "source": [
        "if 5>2:\n",
        "  print (\"Five is greater than two\")"
      ],
      "execution_count": null,
      "outputs": [
        {
          "output_type": "stream",
          "name": "stdout",
          "text": [
            "Five is greater than two\n"
          ]
        }
      ]
    },
    {
      "cell_type": "markdown",
      "metadata": {
        "id": "SSpw973Ulh9k"
      },
      "source": [
        "# Python Variable"
      ]
    },
    {
      "cell_type": "code",
      "metadata": {
        "colab": {
          "base_uri": "https://localhost:8080/"
        },
        "id": "xdRM6ja_l0ox",
        "outputId": "12460b27-596b-41b4-f3e0-78098b4b2d36"
      },
      "source": [
        "a, b, c, = 0,1,2\n",
        "d= \"Sally\" #This is a type of string\n",
        "s= \"Mark\" #This is a type of string\n",
        "A= \"Raymond\" #This is a type of string\n",
        "print (a)\n",
        "print (b)\n",
        "print (c)\n",
        "print (d)\n",
        "print (s)\n",
        "print (A)"
      ],
      "execution_count": 1,
      "outputs": [
        {
          "output_type": "stream",
          "name": "stdout",
          "text": [
            "0\n",
            "1\n",
            "2\n",
            "Sally\n",
            "Mark\n",
            "Raymond\n"
          ]
        }
      ]
    },
    {
      "cell_type": "code",
      "metadata": {
        "colab": {
          "base_uri": "https://localhost:8080/"
        },
        "id": "Jn1mNmRPnxkh",
        "outputId": "8ed6a8e4-ecf6-4aa3-f7ce-7717be2e35c3"
      },
      "source": [
        "x = y = z = \"four\"\n",
        "print (x)\n",
        "print (y)\n",
        "print (z)"
      ],
      "execution_count": 2,
      "outputs": [
        {
          "output_type": "stream",
          "name": "stdout",
          "text": [
            "four\n",
            "four\n",
            "four\n"
          ]
        }
      ]
    },
    {
      "cell_type": "code",
      "metadata": {
        "colab": {
          "base_uri": "https://localhost:8080/"
        },
        "id": "nQOMdps321kf",
        "outputId": "39fe8221-14b1-41c8-91be-9a0fc7f0b5de"
      },
      "source": [
        "x = \"enjoying\"\n",
        "print(\"Python programming is \" \" \" + x)"
      ],
      "execution_count": 3,
      "outputs": [
        {
          "output_type": "stream",
          "name": "stdout",
          "text": [
            "Python programming is  enjoying\n"
          ]
        }
      ]
    },
    {
      "cell_type": "code",
      "metadata": {
        "colab": {
          "base_uri": "https://localhost:8080/"
        },
        "id": "-WIrMCUD3LXt",
        "outputId": "9223025c-84a8-451b-d354-f0deacd98341"
      },
      "source": [
        "x = \"Python is \"\n",
        "y = \"enjoying\"\n",
        "z = x+y\n",
        "print(z)"
      ],
      "execution_count": 5,
      "outputs": [
        {
          "output_type": "stream",
          "name": "stdout",
          "text": [
            "Python is enjoying\n"
          ]
        }
      ]
    },
    {
      "cell_type": "markdown",
      "metadata": {
        "id": "PGOLINWt3kw_"
      },
      "source": [
        "# Casting"
      ]
    },
    {
      "cell_type": "code",
      "metadata": {
        "colab": {
          "base_uri": "https://localhost:8080/"
        },
        "id": "4FtcvaNn4U9G",
        "outputId": "3e029a0b-28a8-4c1e-a271-db4d8cfe06cf"
      },
      "source": [
        "b=\"Sally\" #This is type  of string\n",
        "b=int(4)\n",
        "print(b)"
      ],
      "execution_count": 7,
      "outputs": [
        {
          "output_type": "stream",
          "name": "stdout",
          "text": [
            "4\n"
          ]
        }
      ]
    },
    {
      "cell_type": "code",
      "metadata": {
        "colab": {
          "base_uri": "https://localhost:8080/"
        },
        "id": "58N43ycY4rDp",
        "outputId": "6de19d40-efb4-405f-b75e-164ab71ea65b"
      },
      "source": [
        "b=float(4)\n",
        "print(b)"
      ],
      "execution_count": 8,
      "outputs": [
        {
          "output_type": "stream",
          "name": "stdout",
          "text": [
            "4.0\n"
          ]
        }
      ]
    },
    {
      "cell_type": "markdown",
      "metadata": {
        "id": "L2xZSjLx47W9"
      },
      "source": [
        "## Operation in Python"
      ]
    },
    {
      "cell_type": "code",
      "metadata": {
        "colab": {
          "base_uri": "https://localhost:8080/"
        },
        "id": "v71vYUSi5Po3",
        "outputId": "81ba5ac2-8d5e-4fb4-9722-b840376bd30f"
      },
      "source": [
        "k= 10\n",
        "l= 5\n",
        "print(k+l)"
      ],
      "execution_count": 10,
      "outputs": [
        {
          "output_type": "stream",
          "name": "stdout",
          "text": [
            "15\n",
            "15\n"
          ]
        }
      ]
    },
    {
      "cell_type": "code",
      "metadata": {
        "colab": {
          "base_uri": "https://localhost:8080/"
        },
        "id": "xC957Ze15jnu",
        "outputId": "b632409f-2ea3-4e40-ad0a-2bfbf794574d"
      },
      "source": [
        "k+=1 #Is the same as k= k+1 \n",
        "print(k)"
      ],
      "execution_count": 13,
      "outputs": [
        {
          "output_type": "stream",
          "name": "stdout",
          "text": [
            "13\n"
          ]
        }
      ]
    },
    {
      "cell_type": "code",
      "metadata": {
        "colab": {
          "base_uri": "https://localhost:8080/"
        },
        "id": "keBUerc16B8K",
        "outputId": "a3f18296-e162-4b30-f1f1-d4bf8b60aca7"
      },
      "source": [
        "k>1 and 1==1"
      ],
      "execution_count": 14,
      "outputs": [
        {
          "output_type": "execute_result",
          "data": {
            "text/plain": [
              "True"
            ]
          },
          "metadata": {},
          "execution_count": 14
        }
      ]
    },
    {
      "cell_type": "code",
      "metadata": {
        "colab": {
          "base_uri": "https://localhost:8080/"
        },
        "id": "Kbnf7X4m6K0l",
        "outputId": "31108504-f0ff-45b4-f632-bc27b25fbab0"
      },
      "source": [
        "k<l and k==k"
      ],
      "execution_count": 15,
      "outputs": [
        {
          "output_type": "execute_result",
          "data": {
            "text/plain": [
              "False"
            ]
          },
          "metadata": {},
          "execution_count": 15
        }
      ]
    },
    {
      "cell_type": "code",
      "metadata": {
        "colab": {
          "base_uri": "https://localhost:8080/"
        },
        "id": "-UNIZUou6dFA",
        "outputId": "48094256-6cd7-44f9-a184-f316fe835e3f"
      },
      "source": [
        "not(k<1) or k==k"
      ],
      "execution_count": 16,
      "outputs": [
        {
          "output_type": "execute_result",
          "data": {
            "text/plain": [
              "True"
            ]
          },
          "metadata": {},
          "execution_count": 16
        }
      ]
    },
    {
      "cell_type": "code",
      "metadata": {
        "colab": {
          "base_uri": "https://localhost:8080/"
        },
        "id": "kJmUKFLk6uD8",
        "outputId": "a3d031ca-193d-4b00-a261-07d271308125"
      },
      "source": [
        "k is l\n"
      ],
      "execution_count": 17,
      "outputs": [
        {
          "output_type": "execute_result",
          "data": {
            "text/plain": [
              "False"
            ]
          },
          "metadata": {},
          "execution_count": 17
        }
      ]
    },
    {
      "cell_type": "code",
      "metadata": {
        "colab": {
          "base_uri": "https://localhost:8080/"
        },
        "id": "5bW6kpYZ6ts3",
        "outputId": "2581e576-a799-44dc-a7c8-8fbefc477986"
      },
      "source": [
        " a,b,c- 0,1,2,3\n",
        " a is c"
      ],
      "execution_count": 18,
      "outputs": [
        {
          "output_type": "execute_result",
          "data": {
            "text/plain": [
              "False"
            ]
          },
          "metadata": {},
          "execution_count": 18
        }
      ]
    }
  ]
}