{
  "nbformat": 4,
  "nbformat_minor": 0,
  "metadata": {
    "colab": {
      "name": "Midterm Exam.ipynb",
      "provenance": [],
      "collapsed_sections": [],
      "authorship_tag": "ABX9TyNse0udI6g3gKun0WDgm5qX",
      "include_colab_link": true
    },
    "kernelspec": {
      "name": "python3",
      "display_name": "Python 3"
    },
    "language_info": {
      "name": "python"
    }
  },
  "cells": [
    {
      "cell_type": "markdown",
      "metadata": {
        "id": "view-in-github",
        "colab_type": "text"
      },
      "source": [
        "<a href=\"https://colab.research.google.com/github/Mearoxas/CPEN-21A-ECE-2-1/blob/main/Midterm_Exam.ipynb\" target=\"_parent\"><img src=\"https://colab.research.google.com/assets/colab-badge.svg\" alt=\"Open In Colab\"/></a>"
      ]
    },
    {
      "cell_type": "code",
      "metadata": {
        "id": "8oSUCUQp2VZY"
      },
      "source": [
        ""
      ],
      "execution_count": null,
      "outputs": []
    },
    {
      "cell_type": "markdown",
      "metadata": {
        "id": "3ZN_2esv3OFF"
      },
      "source": [
        "# Midterm Exam"
      ]
    },
    {
      "cell_type": "markdown",
      "metadata": {
        "id": "Qa9fAzA3D4sO"
      },
      "source": [
        "Problem Statement 1"
      ]
    },
    {
      "cell_type": "code",
      "metadata": {
        "colab": {
          "base_uri": "https://localhost:8080/"
        },
        "id": "9Y_3Jp8U4Rb8",
        "outputId": "ae777c39-3c13-4010-f70e-5384658b9bfc"
      },
      "source": [
        "fullname= \"Mary Ann M. Roxas\"\n",
        "studentnumber= \"201910530\"\n",
        "age= \"20 years old\"\n",
        "birthday= \"November 30, 2000\"\n",
        "address= \"Bahayang Pilipino Sabang Lipa City, Batangas\"\n",
        "course= \"BSIE 3-1\"\n",
        "lastGWA= \"1.78\"\n",
        "\n",
        "print(fullname)\n",
        "print(studentnumber)\n",
        "print(age)\n",
        "print(birthday)\n",
        "print(address)\n",
        "print(course)\n",
        "print(lastGWA)"
      ],
      "execution_count": 45,
      "outputs": [
        {
          "output_type": "stream",
          "name": "stdout",
          "text": [
            "Mary Ann M. Roxas\n",
            "201910530\n",
            "20 years old\n",
            "November 30, 2000\n",
            "Bahayang Pilipino Sabang Lipa City, Batangas\n",
            "BSIE 3-1\n",
            "1.78\n"
          ]
        }
      ]
    },
    {
      "cell_type": "markdown",
      "metadata": {
        "id": "Xu32Bz94DqQp"
      },
      "source": [
        "Problem Statement 2"
      ]
    },
    {
      "cell_type": "code",
      "metadata": {
        "colab": {
          "base_uri": "https://localhost:8080/"
        },
        "id": "5Hnst8pk8yFY",
        "outputId": "9befa02b-2f59-4c6a-ecd7-67aa267b1f6a"
      },
      "source": [
        "n= 4\n",
        "answ= \"Y\"\n",
        "\n",
        "print(2<n and n<6)\n",
        "print(2<n or n==6)\n",
        "print(not (2<n or n==6))\n",
        "print(not(n<6))\n",
        "print(answ==\"Y\") or (answ==\"y\") \n",
        "print(answ==\"Y\") and (answ==\"y\")\n",
        "print(not(answ==\"y\"))\n",
        "print((2<n) and (n==5+1)) or (answ==\"No\")\n",
        "print((n==2 and n==7)) or (answ==\"Y\")\n",
        "print(n==2) and ((n==7 or answ==\"Y\"))\n",
        "\n"
      ],
      "execution_count": 44,
      "outputs": [
        {
          "output_type": "stream",
          "name": "stdout",
          "text": [
            "True\n",
            "True\n",
            "False\n",
            "False\n",
            "True\n",
            "True\n",
            "True\n",
            "False\n",
            "False\n",
            "False\n"
          ]
        }
      ]
    },
    {
      "cell_type": "markdown",
      "metadata": {
        "id": "Usc9dvgFEHzH"
      },
      "source": [
        "Problem Statement 3"
      ]
    },
    {
      "cell_type": "code",
      "metadata": {
        "colab": {
          "base_uri": "https://localhost:8080/"
        },
        "id": "p8aDUZ8AJ_kN",
        "outputId": "7d5ebbe0-2499-402b-e862-bdbed7cd90de"
      },
      "source": [
        "x=2\n",
        "y=-3\n",
        "w=7\n",
        "z=-10\n",
        "\n",
        "print(x/y)\n",
        "print(w/y/x)\n",
        "print(z/y%x)\n",
        "print(x%-y*z)\n",
        "print(x%y)\n",
        "print(z%w-y/x*5+5)\n",
        "print(9-x%(2+y))\n",
        "print(z//w)\n",
        "print((2+y)**2)\n",
        "print(w/x*2)"
      ],
      "execution_count": 59,
      "outputs": [
        {
          "output_type": "stream",
          "name": "stdout",
          "text": [
            "-0.6666666666666666\n",
            "-1.1666666666666667\n",
            "1.3333333333333335\n",
            "-20\n",
            "-1\n",
            "16.5\n",
            "9\n",
            "-2\n",
            "1\n",
            "7.0\n"
          ]
        }
      ]
    }
  ]
}