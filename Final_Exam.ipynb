{
  "cells": [
    {
      "cell_type": "markdown",
      "metadata": {
        "id": "view-in-github",
        "colab_type": "text"
      },
      "source": [
        "<a href=\"https://colab.research.google.com/github/Mearoxas/CPEN-21A-ECE-2-1/blob/main/Final_Exam.ipynb\" target=\"_parent\"><img src=\"https://colab.research.google.com/assets/colab-badge.svg\" alt=\"Open In Colab\"/></a>"
      ]
    },
    {
      "cell_type": "markdown",
      "metadata": {
        "id": "qZ-_2gBgQvS1"
      },
      "source": [
        "#Final Exam"
      ]
    },
    {
      "cell_type": "markdown",
      "metadata": {
        "id": "UnqpFHOBRE79"
      },
      "source": [
        "##PROBLEM STATEMENT 1"
      ]
    },
    {
      "cell_type": "code",
      "execution_count": 1,
      "metadata": {
        "id": "OZ5a4k4MRag_",
        "colab": {
          "base_uri": "https://localhost:8080/"
        },
        "outputId": "d6ba102f-0f4f-443b-cc08-d0cc9bacdd90"
      },
      "outputs": [
        {
          "output_type": "stream",
          "name": "stdout",
          "text": [
            "30\n"
          ]
        }
      ],
      "source": [
        "sum = 0\n",
        "numbers = [5,4,3,2,1,1,2,3,4,5]\n",
        "for x in  numbers:\n",
        "  sum = x+sum\n",
        "print(sum)"
      ]
    },
    {
      "cell_type": "markdown",
      "metadata": {
        "id": "TtAOBux1SWHj"
      },
      "source": [
        "##PROBLEM STATEMENT 2"
      ]
    },
    {
      "cell_type": "code",
      "source": [
        "lst = []\n",
        "n = 0\n",
        "while n!=5:\n",
        "  a = input(\"Input the a number:\")\n",
        "  lst.append(a)\n",
        "  if n == 4:\n",
        "    ans = (int(lst[0]) + int(lst[-1]))\n",
        "    print(ans)\n",
        "    break\n",
        "  else:\n",
        "      n+=1"
      ],
      "metadata": {
        "id": "I_ZbXclyXW5h"
      },
      "execution_count": null,
      "outputs": []
    },
    {
      "cell_type": "markdown",
      "source": [
        "##PROBLEM STATEMENT 3"
      ],
      "metadata": {
        "id": "MUoJpjfZXyW8"
      }
    },
    {
      "cell_type": "code",
      "source": [
        "#Write a python program that determine if the grade are:\n",
        "#grade>=90 \"A\"\n",
        "#grade>=80 \"B\"\n",
        "#grade>=70 \"C\"\n",
        "#grade>=60 \"D\"\n",
        "#grade<=60 \"F\"\n",
        "\n",
        "grade = float(input(\"Enter your grade:\"))\n",
        "if grade>=90:\n",
        "  print(\"A\")\n",
        "if grade>=80:\n",
        "  print(\"B\")\n",
        "if grade>=70:\n",
        "  print(\"C\")\n",
        "elif grade>=60 and grade<=60:\n",
        "  print(\"D\")\n",
        "else:\n",
        "  print(\"F\")\n"
      ],
      "metadata": {
        "id": "D5weJNCsX5S_"
      },
      "execution_count": null,
      "outputs": []
    }
  ],
  "metadata": {
    "colab": {
      "name": "Final Exam.ipynb",
      "provenance": [],
      "collapsed_sections": [],
      "authorship_tag": "ABX9TyNtp05e8785GUsevdhqBLB+",
      "include_colab_link": true
    },
    "kernelspec": {
      "display_name": "Python 3",
      "name": "python3"
    },
    "language_info": {
      "name": "python"
    }
  },
  "nbformat": 4,
  "nbformat_minor": 0
}