{
  "nbformat": 4,
  "nbformat_minor": 0,
  "metadata": {
    "colab": {
      "name": "Loop Statement.ipynb",
      "provenance": [],
      "toc_visible": true,
      "authorship_tag": "ABX9TyNRSVFT6Kbt2iCKB83aRpdK",
      "include_colab_link": true
    },
    "kernelspec": {
      "name": "python3",
      "display_name": "Python 3"
    },
    "language_info": {
      "name": "python"
    }
  },
  "cells": [
    {
      "cell_type": "markdown",
      "metadata": {
        "id": "view-in-github",
        "colab_type": "text"
      },
      "source": [
        "<a href=\"https://colab.research.google.com/github/Mearoxas/CPEN-21A-ECE-2-1/blob/main/Loop_Statement.ipynb\" target=\"_parent\"><img src=\"https://colab.research.google.com/assets/colab-badge.svg\" alt=\"Open In Colab\"/></a>"
      ]
    },
    {
      "cell_type": "markdown",
      "source": [
        "## Application 1"
      ],
      "metadata": {
        "id": "8OegITMD0jTn"
      }
    },
    {
      "cell_type": "code",
      "source": [
        "value = [\"Hello Value\"]\n",
        "number = [\"0\",\"1\", \"2\", \"3\",\"4\", \"5\", \"6\",\"7\",\"8\", \"9\",\"10\"]\n",
        "\n",
        "i=0\n",
        "while i<=10:\n",
        "    print(\"Hello Value\",i)\n",
        "    i+=1 #Assignment operator for addition"
      ],
      "metadata": {
        "colab": {
          "base_uri": "https://localhost:8080/"
        },
        "id": "rR6UpQ6c0rAG",
        "outputId": "17910d4b-11cf-4efe-a0db-fd3e3d9ecb8d"
      },
      "execution_count": 12,
      "outputs": [
        {
          "output_type": "stream",
          "name": "stdout",
          "text": [
            "Hello Value 0\n",
            "Hello Value 1\n",
            "Hello Value 2\n",
            "Hello Value 3\n",
            "Hello Value 4\n",
            "Hello Value 5\n",
            "Hello Value 6\n",
            "Hello Value 7\n",
            "Hello Value 8\n",
            "Hello Value 9\n",
            "Hello Value 10\n"
          ]
        }
      ]
    },
    {
      "cell_type": "markdown",
      "source": [
        "## Application 2"
      ],
      "metadata": {
        "id": "v-kQrtlB3RcO"
      }
    },
    {
      "cell_type": "code",
      "source": [
        "i=3\n",
        "while i<10:\n",
        "  print(i)\n",
        "  i+=1 #Assignment operator for addition "
      ],
      "metadata": {
        "colab": {
          "base_uri": "https://localhost:8080/"
        },
        "id": "mjzNbZ5m3WIC",
        "outputId": "58c94536-c2a7-4d31-fd71-feaca2c91294"
      },
      "execution_count": 13,
      "outputs": [
        {
          "output_type": "stream",
          "name": "stdout",
          "text": [
            "3\n",
            "4\n",
            "5\n",
            "6\n",
            "7\n",
            "8\n",
            "9\n"
          ]
        }
      ]
    }
  ]
}